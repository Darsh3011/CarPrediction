{
 "cells": [
  {
   "cell_type": "markdown",
   "id": "86dfa7da",
   "metadata": {},
   "source": [
    "Importing Libraries for Data Visualization and Analysis"
   ]
  },
  {
   "cell_type": "code",
   "execution_count": 1,
   "id": "92778894",
   "metadata": {},
   "outputs": [
    {
     "name": "stderr",
     "output_type": "stream",
     "text": [
      "C:\\Users\\chavd\\anaconda3\\lib\\site-packages\\xgboost\\compat.py:36: FutureWarning: pandas.Int64Index is deprecated and will be removed from pandas in a future version. Use pandas.Index with the appropriate dtype instead.\n",
      "  from pandas import MultiIndex, Int64Index\n"
     ]
    }
   ],
   "source": [
    "import numpy as np # linear algebra\n",
    "import pandas as pd # data processing, CSV file I/O (e.g. pd.read_csv)\n",
    "\n",
    "import matplotlib.pyplot as plt    #\n",
    "import seaborn as sns\n",
    "import plotly.express as px\n",
    "\n",
    "from sklearn import preprocessing\n",
    "from sklearn.model_selection import train_test_split\n",
    "from sklearn.linear_model import LinearRegression\n",
    "from sklearn.ensemble import RandomForestRegressor\n",
    "from sklearn.preprocessing import StandardScaler\n",
    "from sklearn.metrics import r2_score\n",
    "\n",
    "import pandas as pd\n",
    "import numpy as np\n",
    "import time\n",
    "from tqdm import tqdm\n",
    "import matplotlib\n",
    "import matplotlib.pyplot as plt\n",
    "\n",
    "#libraries for preprocessing\n",
    "from sklearn import preprocessing\n",
    "from sklearn.preprocessing import StandardScaler\n",
    "from sklearn.preprocessing import MinMaxScaler\n",
    "\n",
    "#libraries for evaluation\n",
    "from sklearn.metrics import mean_squared_log_error,r2_score,mean_squared_error\n",
    "from sklearn.model_selection import train_test_split\n",
    "\n",
    "\n",
    "#libraries for models\n",
    "from sklearn.linear_model import LinearRegression\n",
    "\n",
    "from sklearn.linear_model import Ridge\n",
    "from sklearn.linear_model import LassoCV,RidgeCV\n",
    "#from yellowbrick.regressor import AlphaSelection\n",
    "\n",
    "from sklearn.linear_model import Lasso\n",
    "\n",
    "from sklearn.neighbors import KNeighborsRegressor\n",
    "\n",
    "from sklearn.ensemble import RandomForestRegressor\n",
    "\n",
    "from sklearn.ensemble import BaggingRegressor\n",
    "from sklearn.tree import DecisionTreeRegressor\n",
    "from sklearn.svm import SVR\n",
    "\n",
    "from sklearn.ensemble import AdaBoostRegressor\n",
    "\n",
    "import xgboost as xgb\n",
    "\n",
    "import warnings"
   ]
  },
  {
   "cell_type": "code",
   "execution_count": 2,
   "id": "63416e1e",
   "metadata": {
    "scrolled": true
   },
   "outputs": [],
   "source": [
    "import pymongo\n",
    "from pymongo import MongoClient"
   ]
  },
  {
   "cell_type": "code",
   "execution_count": 3,
   "id": "53368ffc",
   "metadata": {},
   "outputs": [
    {
     "data": {
      "text/plain": [
       "Database(MongoClient(host=['localhost:27017'], document_class=dict, tz_aware=False, connect=True), 'car_data')"
      ]
     },
     "execution_count": 3,
     "metadata": {},
     "output_type": "execute_result"
    }
   ],
   "source": [
    "client= MongoClient('localhost',27017)\n",
    "db = client ['car_data']\n",
    "db"
   ]
  },
  {
   "cell_type": "code",
   "execution_count": 4,
   "id": "fbeaad26",
   "metadata": {},
   "outputs": [
    {
     "data": {
      "text/html": [
       "<div>\n",
       "<style scoped>\n",
       "    .dataframe tbody tr th:only-of-type {\n",
       "        vertical-align: middle;\n",
       "    }\n",
       "\n",
       "    .dataframe tbody tr th {\n",
       "        vertical-align: top;\n",
       "    }\n",
       "\n",
       "    .dataframe thead th {\n",
       "        text-align: right;\n",
       "    }\n",
       "</style>\n",
       "<table border=\"1\" class=\"dataframe\">\n",
       "  <thead>\n",
       "    <tr style=\"text-align: right;\">\n",
       "      <th></th>\n",
       "      <th>_id</th>\n",
       "      <th>title</th>\n",
       "      <th>year</th>\n",
       "      <th>model</th>\n",
       "      <th>location</th>\n",
       "      <th>type</th>\n",
       "      <th>odometer</th>\n",
       "      <th>mpg</th>\n",
       "      <th>transmisson</th>\n",
       "      <th>engine</th>\n",
       "      <th>engine_cap</th>\n",
       "      <th>make</th>\n",
       "      <th>price</th>\n",
       "    </tr>\n",
       "  </thead>\n",
       "  <tbody>\n",
       "    <tr>\n",
       "      <th>0</th>\n",
       "      <td>62e58c8f3d0edcbf7eff9d90</td>\n",
       "      <td>2015 Dodge Dart</td>\n",
       "      <td>2015</td>\n",
       "      <td>Dodge Dart</td>\n",
       "      <td>Pasadena, CA</td>\n",
       "      <td>Sedan</td>\n",
       "      <td>59,012</td>\n",
       "      <td>25</td>\n",
       "      <td>Automatic</td>\n",
       "      <td>2.0L Inline-4 Gas</td>\n",
       "      <td>2</td>\n",
       "      <td>Dodge</td>\n",
       "      <td>$9,995</td>\n",
       "    </tr>\n",
       "    <tr>\n",
       "      <th>1</th>\n",
       "      <td>62e58c8f3d0edcbf7eff9d91</td>\n",
       "      <td>2015 Dodge Dart</td>\n",
       "      <td>2015</td>\n",
       "      <td>Dodge Dart</td>\n",
       "      <td>Fort Lauderdale, FL</td>\n",
       "      <td>Sedan</td>\n",
       "      <td>103,035</td>\n",
       "      <td>22</td>\n",
       "      <td>Automatic</td>\n",
       "      <td>2.4L Inline-4 Gas</td>\n",
       "      <td>2.4</td>\n",
       "      <td>Dodge</td>\n",
       "      <td>$8,499</td>\n",
       "    </tr>\n",
       "    <tr>\n",
       "      <th>2</th>\n",
       "      <td>62e58c8f3d0edcbf7eff9d92</td>\n",
       "      <td>2019 Dodge Charger</td>\n",
       "      <td>2019</td>\n",
       "      <td>Dodge Charger</td>\n",
       "      <td>NaN</td>\n",
       "      <td>Sedan</td>\n",
       "      <td>NaN</td>\n",
       "      <td>19</td>\n",
       "      <td>Automatic</td>\n",
       "      <td>3.6L V-6 Gas</td>\n",
       "      <td>3.6</td>\n",
       "      <td>Dodge</td>\n",
       "      <td>$29,850</td>\n",
       "    </tr>\n",
       "    <tr>\n",
       "      <th>3</th>\n",
       "      <td>62e58c8f3d0edcbf7eff9d93</td>\n",
       "      <td>2018 Dodge Journey</td>\n",
       "      <td>2018</td>\n",
       "      <td>Dodge Journey</td>\n",
       "      <td>NaN</td>\n",
       "      <td>SUV</td>\n",
       "      <td>NaN</td>\n",
       "      <td>19</td>\n",
       "      <td>Automatic</td>\n",
       "      <td>2.4L Inline-4 Gas</td>\n",
       "      <td>2.4</td>\n",
       "      <td>Dodge</td>\n",
       "      <td>$19,900</td>\n",
       "    </tr>\n",
       "    <tr>\n",
       "      <th>4</th>\n",
       "      <td>62e58c8f3d0edcbf7eff9d94</td>\n",
       "      <td>2018 Dodge Grand Caravan</td>\n",
       "      <td>2018</td>\n",
       "      <td>Dodge Grand Caravan</td>\n",
       "      <td>Henderson, NV</td>\n",
       "      <td>Minivan</td>\n",
       "      <td>54,507</td>\n",
       "      <td>17</td>\n",
       "      <td>Automatic</td>\n",
       "      <td>3.6L V-6 Gas</td>\n",
       "      <td>3.6</td>\n",
       "      <td>Dodge</td>\n",
       "      <td>$20,992</td>\n",
       "    </tr>\n",
       "  </tbody>\n",
       "</table>\n",
       "</div>"
      ],
      "text/plain": [
       "                        _id                      title  year  \\\n",
       "0  62e58c8f3d0edcbf7eff9d90           2015 Dodge Dart   2015   \n",
       "1  62e58c8f3d0edcbf7eff9d91           2015 Dodge Dart   2015   \n",
       "2  62e58c8f3d0edcbf7eff9d92        2019 Dodge Charger   2019   \n",
       "3  62e58c8f3d0edcbf7eff9d93        2018 Dodge Journey   2018   \n",
       "4  62e58c8f3d0edcbf7eff9d94  2018 Dodge Grand Caravan   2018   \n",
       "\n",
       "                  model             location     type odometer mpg  \\\n",
       "0           Dodge Dart          Pasadena, CA    Sedan   59,012  25   \n",
       "1           Dodge Dart   Fort Lauderdale, FL    Sedan  103,035  22   \n",
       "2        Dodge Charger                   NaN    Sedan      NaN  19   \n",
       "3        Dodge Journey                   NaN      SUV      NaN  19   \n",
       "4  Dodge Grand Caravan         Henderson, NV  Minivan   54,507  17   \n",
       "\n",
       "  transmisson             engine engine_cap   make    price  \n",
       "0   Automatic  2.0L Inline-4 Gas          2  Dodge   $9,995  \n",
       "1   Automatic  2.4L Inline-4 Gas        2.4  Dodge   $8,499  \n",
       "2   Automatic       3.6L V-6 Gas        3.6  Dodge  $29,850  \n",
       "3   Automatic  2.4L Inline-4 Gas        2.4  Dodge  $19,900  \n",
       "4   Automatic       3.6L V-6 Gas        3.6  Dodge  $20,992  "
      ]
     },
     "execution_count": 4,
     "metadata": {},
     "output_type": "execute_result"
    }
   ],
   "source": [
    "coll_name= db[\"Used_Car\"]\n",
    "df =pd.DataFrame(list(coll_name.find()))      \n",
    "df.head()    "
   ]
  },
  {
   "cell_type": "code",
   "execution_count": 5,
   "id": "285578e9",
   "metadata": {},
   "outputs": [
    {
     "name": "stdout",
     "output_type": "stream",
     "text": [
      "<class 'pandas.core.frame.DataFrame'>\n",
      "RangeIndex: 27608 entries, 0 to 27607\n",
      "Data columns (total 13 columns):\n",
      " #   Column       Non-Null Count  Dtype \n",
      "---  ------       --------------  ----- \n",
      " 0   _id          27608 non-null  object\n",
      " 1   title        27608 non-null  object\n",
      " 2   year         27608 non-null  object\n",
      " 3   model        27608 non-null  object\n",
      " 4   location     22665 non-null  object\n",
      " 5   type         27608 non-null  object\n",
      " 6   odometer     22665 non-null  object\n",
      " 7   mpg          26693 non-null  object\n",
      " 8   transmisson  26784 non-null  object\n",
      " 9   engine       27608 non-null  object\n",
      " 10  engine_cap   27608 non-null  object\n",
      " 11  make         27608 non-null  object\n",
      " 12  price        27608 non-null  object\n",
      "dtypes: object(13)\n",
      "memory usage: 2.7+ MB\n"
     ]
    }
   ],
   "source": [
    "df.info()"
   ]
  },
  {
   "cell_type": "code",
   "execution_count": 6,
   "id": "56fa5671",
   "metadata": {
    "scrolled": true
   },
   "outputs": [
    {
     "name": "stdout",
     "output_type": "stream",
     "text": [
      "<class 'pandas.core.frame.DataFrame'>\n",
      "RangeIndex: 27608 entries, 0 to 27607\n",
      "Data columns (total 10 columns):\n",
      " #   Column       Non-Null Count  Dtype \n",
      "---  ------       --------------  ----- \n",
      " 0   year         27608 non-null  object\n",
      " 1   model        27608 non-null  object\n",
      " 2   type         27608 non-null  object\n",
      " 3   odometer     22665 non-null  object\n",
      " 4   mpg          26693 non-null  object\n",
      " 5   transmisson  26784 non-null  object\n",
      " 6   engine       27608 non-null  object\n",
      " 7   engine_cap   27608 non-null  object\n",
      " 8   make         27608 non-null  object\n",
      " 9   price        27608 non-null  object\n",
      "dtypes: object(10)\n",
      "memory usage: 2.1+ MB\n"
     ]
    }
   ],
   "source": [
    "fd = df.drop(['location','title','_id'],axis=1)\n",
    "fd.info()"
   ]
  },
  {
   "cell_type": "code",
   "execution_count": 7,
   "id": "26388b7f",
   "metadata": {},
   "outputs": [],
   "source": [
    "fd['engine']=fd['engine'].str.split('L').str[0]\n",
    "make=fd['model'].str.split(' ').str[0]\n",
    "fd = fd[fd.engine != '4WD']\n",
    "fd = fd[fd.engine != 'RWD']\n",
    "fd = fd[fd.engine != 'AWD']\n",
    "\n",
    "# fd['model']=fd['model'].str.split(' ',1).str[1]\n",
    "# fd.insert(1,'make',make)"
   ]
  },
  {
   "cell_type": "code",
   "execution_count": 8,
   "id": "8af1f2b1",
   "metadata": {
    "scrolled": true
   },
   "outputs": [
    {
     "data": {
      "text/html": [
       "<div>\n",
       "<style scoped>\n",
       "    .dataframe tbody tr th:only-of-type {\n",
       "        vertical-align: middle;\n",
       "    }\n",
       "\n",
       "    .dataframe tbody tr th {\n",
       "        vertical-align: top;\n",
       "    }\n",
       "\n",
       "    .dataframe thead th {\n",
       "        text-align: right;\n",
       "    }\n",
       "</style>\n",
       "<table border=\"1\" class=\"dataframe\">\n",
       "  <thead>\n",
       "    <tr style=\"text-align: right;\">\n",
       "      <th></th>\n",
       "      <th>year</th>\n",
       "      <th>model</th>\n",
       "      <th>type</th>\n",
       "      <th>odometer</th>\n",
       "      <th>mpg</th>\n",
       "      <th>transmisson</th>\n",
       "      <th>engine</th>\n",
       "      <th>engine_cap</th>\n",
       "      <th>make</th>\n",
       "      <th>price</th>\n",
       "    </tr>\n",
       "  </thead>\n",
       "  <tbody>\n",
       "    <tr>\n",
       "      <th>19929</th>\n",
       "      <td>2019</td>\n",
       "      <td>Toyota Highlander</td>\n",
       "      <td>SUV</td>\n",
       "      <td>9,923</td>\n",
       "      <td>20</td>\n",
       "      <td>Automatic</td>\n",
       "      <td>3.5</td>\n",
       "      <td>3.5</td>\n",
       "      <td>Toyota</td>\n",
       "      <td>$39,990</td>\n",
       "    </tr>\n",
       "    <tr>\n",
       "      <th>15986</th>\n",
       "      <td>2015</td>\n",
       "      <td>Ford Focus</td>\n",
       "      <td>Sedan</td>\n",
       "      <td>89,370</td>\n",
       "      <td>26</td>\n",
       "      <td>Manual</td>\n",
       "      <td>2.0</td>\n",
       "      <td>2</td>\n",
       "      <td>Ford</td>\n",
       "      <td>$11,990</td>\n",
       "    </tr>\n",
       "    <tr>\n",
       "      <th>10907</th>\n",
       "      <td>2018</td>\n",
       "      <td>Ford F-150</td>\n",
       "      <td>Pickup Truck</td>\n",
       "      <td>NaN</td>\n",
       "      <td>18</td>\n",
       "      <td>Automatic</td>\n",
       "      <td>2.7</td>\n",
       "      <td>2.7</td>\n",
       "      <td>Ford</td>\n",
       "      <td>$31,990</td>\n",
       "    </tr>\n",
       "    <tr>\n",
       "      <th>696</th>\n",
       "      <td>2016</td>\n",
       "      <td>Dodge Grand Caravan</td>\n",
       "      <td>Minivan</td>\n",
       "      <td>88,364</td>\n",
       "      <td>17</td>\n",
       "      <td>Automatic</td>\n",
       "      <td>3.6</td>\n",
       "      <td>3.6</td>\n",
       "      <td>Dodge</td>\n",
       "      <td>$13,600</td>\n",
       "    </tr>\n",
       "    <tr>\n",
       "      <th>20754</th>\n",
       "      <td>2020</td>\n",
       "      <td>Toyota RAV4</td>\n",
       "      <td>SUV</td>\n",
       "      <td>21,661</td>\n",
       "      <td>27</td>\n",
       "      <td>Automatic</td>\n",
       "      <td>2.5</td>\n",
       "      <td>2.5</td>\n",
       "      <td>Toyota</td>\n",
       "      <td>$34,999</td>\n",
       "    </tr>\n",
       "    <tr>\n",
       "      <th>...</th>\n",
       "      <td>...</td>\n",
       "      <td>...</td>\n",
       "      <td>...</td>\n",
       "      <td>...</td>\n",
       "      <td>...</td>\n",
       "      <td>...</td>\n",
       "      <td>...</td>\n",
       "      <td>...</td>\n",
       "      <td>...</td>\n",
       "      <td>...</td>\n",
       "    </tr>\n",
       "    <tr>\n",
       "      <th>8114</th>\n",
       "      <td>2020</td>\n",
       "      <td>Dodge Durango</td>\n",
       "      <td>SUV</td>\n",
       "      <td>54,843</td>\n",
       "      <td>14</td>\n",
       "      <td>Automatic</td>\n",
       "      <td>5.7</td>\n",
       "      <td>5.7</td>\n",
       "      <td>Dodge</td>\n",
       "      <td>$42,900</td>\n",
       "    </tr>\n",
       "    <tr>\n",
       "      <th>3872</th>\n",
       "      <td>2019</td>\n",
       "      <td>Dodge Grand Caravan</td>\n",
       "      <td>Minivan</td>\n",
       "      <td>62,392</td>\n",
       "      <td>17</td>\n",
       "      <td>Automatic</td>\n",
       "      <td>3.6</td>\n",
       "      <td>3.6</td>\n",
       "      <td>Dodge</td>\n",
       "      <td>$24,303</td>\n",
       "    </tr>\n",
       "    <tr>\n",
       "      <th>17291</th>\n",
       "      <td>2013</td>\n",
       "      <td>Ford F-150</td>\n",
       "      <td>Pickup Truck</td>\n",
       "      <td>145,591</td>\n",
       "      <td>16</td>\n",
       "      <td>Automatic</td>\n",
       "      <td>5.0</td>\n",
       "      <td>5</td>\n",
       "      <td>Ford</td>\n",
       "      <td>$17,000</td>\n",
       "    </tr>\n",
       "    <tr>\n",
       "      <th>12109</th>\n",
       "      <td>2019</td>\n",
       "      <td>Ford F-150</td>\n",
       "      <td>Pickup Truck</td>\n",
       "      <td>60,947</td>\n",
       "      <td>18</td>\n",
       "      <td>Automatic</td>\n",
       "      <td>5.0</td>\n",
       "      <td>5</td>\n",
       "      <td>Ford</td>\n",
       "      <td>$35,988</td>\n",
       "    </tr>\n",
       "    <tr>\n",
       "      <th>15020</th>\n",
       "      <td>2018</td>\n",
       "      <td>Ford Fusion</td>\n",
       "      <td>Sedan</td>\n",
       "      <td>90,147</td>\n",
       "      <td>43</td>\n",
       "      <td>Automatic</td>\n",
       "      <td>2.0</td>\n",
       "      <td>2</td>\n",
       "      <td>Ford</td>\n",
       "      <td>$16,995</td>\n",
       "    </tr>\n",
       "  </tbody>\n",
       "</table>\n",
       "<p>100 rows × 10 columns</p>\n",
       "</div>"
      ],
      "text/plain": [
       "       year                 model          type odometer mpg transmisson  \\\n",
       "19929  2019    Toyota Highlander            SUV    9,923  20   Automatic   \n",
       "15986  2015           Ford Focus          Sedan   89,370  26      Manual   \n",
       "10907  2018           Ford F-150   Pickup Truck      NaN  18   Automatic   \n",
       "696    2016  Dodge Grand Caravan        Minivan   88,364  17   Automatic   \n",
       "20754  2020          Toyota RAV4            SUV   21,661  27   Automatic   \n",
       "...     ...                   ...           ...      ...  ..         ...   \n",
       "8114   2020        Dodge Durango            SUV   54,843  14   Automatic   \n",
       "3872   2019  Dodge Grand Caravan        Minivan   62,392  17   Automatic   \n",
       "17291  2013           Ford F-150   Pickup Truck  145,591  16   Automatic   \n",
       "12109  2019           Ford F-150   Pickup Truck   60,947  18   Automatic   \n",
       "15020  2018          Ford Fusion          Sedan   90,147  43   Automatic   \n",
       "\n",
       "      engine engine_cap    make    price  \n",
       "19929    3.5        3.5  Toyota  $39,990  \n",
       "15986    2.0          2    Ford  $11,990  \n",
       "10907    2.7        2.7    Ford  $31,990  \n",
       "696      3.6        3.6   Dodge  $13,600  \n",
       "20754    2.5        2.5  Toyota  $34,999  \n",
       "...      ...        ...     ...      ...  \n",
       "8114     5.7        5.7   Dodge  $42,900  \n",
       "3872     3.6        3.6   Dodge  $24,303  \n",
       "17291    5.0          5    Ford  $17,000  \n",
       "12109    5.0          5    Ford  $35,988  \n",
       "15020    2.0          2    Ford  $16,995  \n",
       "\n",
       "[100 rows x 10 columns]"
      ]
     },
     "execution_count": 8,
     "metadata": {},
     "output_type": "execute_result"
    }
   ],
   "source": [
    "fd.sample(100,random_state=2)"
   ]
  },
  {
   "cell_type": "code",
   "execution_count": 9,
   "id": "39cc2e43",
   "metadata": {
    "scrolled": true
   },
   "outputs": [
    {
     "data": {
      "text/plain": [
       "year              0\n",
       "model             0\n",
       "type              0\n",
       "odometer       4643\n",
       "mpg               0\n",
       "transmisson       0\n",
       "engine            0\n",
       "engine_cap        0\n",
       "make              0\n",
       "price             0\n",
       "dtype: int64"
      ]
     },
     "execution_count": 9,
     "metadata": {},
     "output_type": "execute_result"
    }
   ],
   "source": [
    "fd.isnull().sum()"
   ]
  },
  {
   "cell_type": "code",
   "execution_count": 10,
   "id": "ec748e72",
   "metadata": {},
   "outputs": [],
   "source": [
    "\n",
    "fd['odometer']=fd['odometer'].astype(str)\n",
    "fd['odometer']=fd['odometer'].str.replace(',','')\n",
    "#fd['odometer']=fd['odometer'].str.replace('nan',np.nan)\n",
    "fd['odometer']=fd['odometer'].replace('nan',np.nan)"
   ]
  },
  {
   "cell_type": "code",
   "execution_count": 11,
   "id": "aec06070",
   "metadata": {
    "scrolled": true
   },
   "outputs": [],
   "source": [
    "fd['transmisson'] = fd['transmisson'].fillna(\"Not Specified\")\n",
    "fd['mpg']=fd['mpg'].fillna(fd['mpg'].median())"
   ]
  },
  {
   "cell_type": "code",
   "execution_count": 12,
   "id": "ae64e1f1",
   "metadata": {
    "scrolled": false
   },
   "outputs": [],
   "source": [
    "fd['odometer'] = fd['odometer'].astype(float)\n",
    "fd['mpg'] = fd['mpg'].astype(float)\n",
    "#fd['engine_cap'] = fd['engine_cap'].astype(str)\n",
    "fd=fd.drop(['engine'],axis=1)\n",
    "#fd['engine_cap'] = fd['engine_cap'].astype(float)"
   ]
  },
  {
   "cell_type": "code",
   "execution_count": 13,
   "id": "eaf8bcd9",
   "metadata": {
    "scrolled": true
   },
   "outputs": [
    {
     "data": {
      "text/html": [
       "<div>\n",
       "<style scoped>\n",
       "    .dataframe tbody tr th:only-of-type {\n",
       "        vertical-align: middle;\n",
       "    }\n",
       "\n",
       "    .dataframe tbody tr th {\n",
       "        vertical-align: top;\n",
       "    }\n",
       "\n",
       "    .dataframe thead th {\n",
       "        text-align: right;\n",
       "    }\n",
       "</style>\n",
       "<table border=\"1\" class=\"dataframe\">\n",
       "  <thead>\n",
       "    <tr style=\"text-align: right;\">\n",
       "      <th></th>\n",
       "      <th>year</th>\n",
       "      <th>model</th>\n",
       "      <th>type</th>\n",
       "      <th>odometer</th>\n",
       "      <th>mpg</th>\n",
       "      <th>transmisson</th>\n",
       "      <th>engine_cap</th>\n",
       "      <th>make</th>\n",
       "      <th>price</th>\n",
       "    </tr>\n",
       "  </thead>\n",
       "  <tbody>\n",
       "    <tr>\n",
       "      <th>0</th>\n",
       "      <td>2015</td>\n",
       "      <td>Dodge Dart</td>\n",
       "      <td>Sedan</td>\n",
       "      <td>59012.0</td>\n",
       "      <td>25.0</td>\n",
       "      <td>Automatic</td>\n",
       "      <td>2</td>\n",
       "      <td>Dodge</td>\n",
       "      <td>$9,995</td>\n",
       "    </tr>\n",
       "    <tr>\n",
       "      <th>1</th>\n",
       "      <td>2015</td>\n",
       "      <td>Dodge Dart</td>\n",
       "      <td>Sedan</td>\n",
       "      <td>103035.0</td>\n",
       "      <td>22.0</td>\n",
       "      <td>Automatic</td>\n",
       "      <td>2.4</td>\n",
       "      <td>Dodge</td>\n",
       "      <td>$8,499</td>\n",
       "    </tr>\n",
       "    <tr>\n",
       "      <th>4</th>\n",
       "      <td>2018</td>\n",
       "      <td>Dodge Grand Caravan</td>\n",
       "      <td>Minivan</td>\n",
       "      <td>54507.0</td>\n",
       "      <td>17.0</td>\n",
       "      <td>Automatic</td>\n",
       "      <td>3.6</td>\n",
       "      <td>Dodge</td>\n",
       "      <td>$20,992</td>\n",
       "    </tr>\n",
       "    <tr>\n",
       "      <th>5</th>\n",
       "      <td>2019</td>\n",
       "      <td>Dodge Charger</td>\n",
       "      <td>Sedan</td>\n",
       "      <td>24311.0</td>\n",
       "      <td>15.0</td>\n",
       "      <td>Automatic</td>\n",
       "      <td>6.4</td>\n",
       "      <td>Dodge</td>\n",
       "      <td>$44,881</td>\n",
       "    </tr>\n",
       "    <tr>\n",
       "      <th>7</th>\n",
       "      <td>2019</td>\n",
       "      <td>Dodge Grand Caravan</td>\n",
       "      <td>Minivan</td>\n",
       "      <td>54642.0</td>\n",
       "      <td>17.0</td>\n",
       "      <td>Automatic</td>\n",
       "      <td>3.6</td>\n",
       "      <td>Dodge</td>\n",
       "      <td>$22,617</td>\n",
       "    </tr>\n",
       "    <tr>\n",
       "      <th>...</th>\n",
       "      <td>...</td>\n",
       "      <td>...</td>\n",
       "      <td>...</td>\n",
       "      <td>...</td>\n",
       "      <td>...</td>\n",
       "      <td>...</td>\n",
       "      <td>...</td>\n",
       "      <td>...</td>\n",
       "      <td>...</td>\n",
       "    </tr>\n",
       "    <tr>\n",
       "      <th>27602</th>\n",
       "      <td>2020</td>\n",
       "      <td>Toyota RAV4</td>\n",
       "      <td>SUV</td>\n",
       "      <td>48359.0</td>\n",
       "      <td>27.0</td>\n",
       "      <td>Automatic</td>\n",
       "      <td>2.5</td>\n",
       "      <td>Toyota</td>\n",
       "      <td>$24,995</td>\n",
       "    </tr>\n",
       "    <tr>\n",
       "      <th>27603</th>\n",
       "      <td>2016</td>\n",
       "      <td>Toyota Highlander</td>\n",
       "      <td>SUV</td>\n",
       "      <td>80714.0</td>\n",
       "      <td>18.0</td>\n",
       "      <td>Automatic</td>\n",
       "      <td>3.5</td>\n",
       "      <td>Toyota</td>\n",
       "      <td>$29,990</td>\n",
       "    </tr>\n",
       "    <tr>\n",
       "      <th>27604</th>\n",
       "      <td>2018</td>\n",
       "      <td>Toyota RAV4</td>\n",
       "      <td>SUV</td>\n",
       "      <td>95421.0</td>\n",
       "      <td>23.0</td>\n",
       "      <td>Automatic</td>\n",
       "      <td>2.5</td>\n",
       "      <td>Toyota</td>\n",
       "      <td>$20,895</td>\n",
       "    </tr>\n",
       "    <tr>\n",
       "      <th>27606</th>\n",
       "      <td>2019</td>\n",
       "      <td>Toyota RAV4</td>\n",
       "      <td>SUV</td>\n",
       "      <td>7459.0</td>\n",
       "      <td>25.0</td>\n",
       "      <td>Automatic</td>\n",
       "      <td>2.5</td>\n",
       "      <td>Toyota</td>\n",
       "      <td>$33,979</td>\n",
       "    </tr>\n",
       "    <tr>\n",
       "      <th>27607</th>\n",
       "      <td>2019</td>\n",
       "      <td>Toyota Camry</td>\n",
       "      <td>Sedan</td>\n",
       "      <td>24625.0</td>\n",
       "      <td>29.0</td>\n",
       "      <td>Automatic</td>\n",
       "      <td>2.5</td>\n",
       "      <td>Toyota</td>\n",
       "      <td>$29,988</td>\n",
       "    </tr>\n",
       "  </tbody>\n",
       "</table>\n",
       "<p>22050 rows × 9 columns</p>\n",
       "</div>"
      ],
      "text/plain": [
       "       year                 model     type  odometer   mpg transmisson  \\\n",
       "0      2015           Dodge Dart     Sedan   59012.0  25.0   Automatic   \n",
       "1      2015           Dodge Dart     Sedan  103035.0  22.0   Automatic   \n",
       "4      2018  Dodge Grand Caravan   Minivan   54507.0  17.0   Automatic   \n",
       "5      2019        Dodge Charger     Sedan   24311.0  15.0   Automatic   \n",
       "7      2019  Dodge Grand Caravan   Minivan   54642.0  17.0   Automatic   \n",
       "...     ...                   ...      ...       ...   ...         ...   \n",
       "27602  2020          Toyota RAV4       SUV   48359.0  27.0   Automatic   \n",
       "27603  2016    Toyota Highlander       SUV   80714.0  18.0   Automatic   \n",
       "27604  2018          Toyota RAV4       SUV   95421.0  23.0   Automatic   \n",
       "27606  2019          Toyota RAV4       SUV    7459.0  25.0   Automatic   \n",
       "27607  2019         Toyota Camry     Sedan   24625.0  29.0   Automatic   \n",
       "\n",
       "      engine_cap    make    price  \n",
       "0              2   Dodge   $9,995  \n",
       "1            2.4   Dodge   $8,499  \n",
       "4            3.6   Dodge  $20,992  \n",
       "5            6.4   Dodge  $44,881  \n",
       "7            3.6   Dodge  $22,617  \n",
       "...          ...     ...      ...  \n",
       "27602        2.5  Toyota  $24,995  \n",
       "27603        3.5  Toyota  $29,990  \n",
       "27604        2.5  Toyota  $20,895  \n",
       "27606        2.5  Toyota  $33,979  \n",
       "27607        2.5  Toyota  $29,988  \n",
       "\n",
       "[22050 rows x 9 columns]"
      ]
     },
     "execution_count": 13,
     "metadata": {},
     "output_type": "execute_result"
    }
   ],
   "source": [
    "fd.dropna()"
   ]
  },
  {
   "cell_type": "code",
   "execution_count": 14,
   "id": "8f4cd374",
   "metadata": {
    "scrolled": true
   },
   "outputs": [
    {
     "name": "stdout",
     "output_type": "stream",
     "text": [
      "<class 'pandas.core.frame.DataFrame'>\n",
      "Int64Index: 26693 entries, 0 to 27607\n",
      "Data columns (total 9 columns):\n",
      " #   Column       Non-Null Count  Dtype  \n",
      "---  ------       --------------  -----  \n",
      " 0   year         26693 non-null  object \n",
      " 1   model        26693 non-null  object \n",
      " 2   type         26693 non-null  object \n",
      " 3   odometer     22050 non-null  float64\n",
      " 4   mpg          26693 non-null  float64\n",
      " 5   transmisson  26693 non-null  object \n",
      " 6   engine_cap   26693 non-null  object \n",
      " 7   make         26693 non-null  object \n",
      " 8   price        26693 non-null  object \n",
      "dtypes: float64(2), object(7)\n",
      "memory usage: 2.0+ MB\n"
     ]
    }
   ],
   "source": [
    "fd.info()"
   ]
  },
  {
   "cell_type": "code",
   "execution_count": 15,
   "id": "6003a59e",
   "metadata": {},
   "outputs": [
    {
     "data": {
      "text/html": [
       "<div>\n",
       "<style scoped>\n",
       "    .dataframe tbody tr th:only-of-type {\n",
       "        vertical-align: middle;\n",
       "    }\n",
       "\n",
       "    .dataframe tbody tr th {\n",
       "        vertical-align: top;\n",
       "    }\n",
       "\n",
       "    .dataframe thead th {\n",
       "        text-align: right;\n",
       "    }\n",
       "</style>\n",
       "<table border=\"1\" class=\"dataframe\">\n",
       "  <thead>\n",
       "    <tr style=\"text-align: right;\">\n",
       "      <th></th>\n",
       "      <th>types</th>\n",
       "      <th>counts</th>\n",
       "      <th>percent</th>\n",
       "    </tr>\n",
       "  </thead>\n",
       "  <tbody>\n",
       "    <tr>\n",
       "      <th>0</th>\n",
       "      <td>SUV</td>\n",
       "      <td>10054</td>\n",
       "      <td>36.416981</td>\n",
       "    </tr>\n",
       "    <tr>\n",
       "      <th>1</th>\n",
       "      <td>Pickup Truck</td>\n",
       "      <td>6711</td>\n",
       "      <td>24.308172</td>\n",
       "    </tr>\n",
       "    <tr>\n",
       "      <th>2</th>\n",
       "      <td>Sedan</td>\n",
       "      <td>6592</td>\n",
       "      <td>23.877137</td>\n",
       "    </tr>\n",
       "    <tr>\n",
       "      <th>3</th>\n",
       "      <td>Minivan</td>\n",
       "      <td>1993</td>\n",
       "      <td>7.218922</td>\n",
       "    </tr>\n",
       "    <tr>\n",
       "      <th>4</th>\n",
       "      <td>Coupe</td>\n",
       "      <td>1818</td>\n",
       "      <td>6.585048</td>\n",
       "    </tr>\n",
       "    <tr>\n",
       "      <th>5</th>\n",
       "      <td>Hatchback</td>\n",
       "      <td>164</td>\n",
       "      <td>0.594031</td>\n",
       "    </tr>\n",
       "    <tr>\n",
       "      <th>6</th>\n",
       "      <td>Cargo Van</td>\n",
       "      <td>115</td>\n",
       "      <td>0.416546</td>\n",
       "    </tr>\n",
       "    <tr>\n",
       "      <th>7</th>\n",
       "      <td>Convertible</td>\n",
       "      <td>104</td>\n",
       "      <td>0.376702</td>\n",
       "    </tr>\n",
       "    <tr>\n",
       "      <th>8</th>\n",
       "      <td>Chassis Cab Truck</td>\n",
       "      <td>22</td>\n",
       "      <td>0.079687</td>\n",
       "    </tr>\n",
       "    <tr>\n",
       "      <th>9</th>\n",
       "      <td>Wagon</td>\n",
       "      <td>19</td>\n",
       "      <td>0.068821</td>\n",
       "    </tr>\n",
       "    <tr>\n",
       "      <th>10</th>\n",
       "      <td>Passenger Van</td>\n",
       "      <td>16</td>\n",
       "      <td>0.057954</td>\n",
       "    </tr>\n",
       "  </tbody>\n",
       "</table>\n",
       "</div>"
      ],
      "text/plain": [
       "                types  counts    percent\n",
       "0                 SUV   10054  36.416981\n",
       "1        Pickup Truck    6711  24.308172\n",
       "2               Sedan    6592  23.877137\n",
       "3             Minivan    1993   7.218922\n",
       "4               Coupe    1818   6.585048\n",
       "5           Hatchback     164   0.594031\n",
       "6           Cargo Van     115   0.416546\n",
       "7         Convertible     104   0.376702\n",
       "8   Chassis Cab Truck      22   0.079687\n",
       "9               Wagon      19   0.068821\n",
       "10      Passenger Van      16   0.057954"
      ]
     },
     "execution_count": 15,
     "metadata": {},
     "output_type": "execute_result"
    }
   ],
   "source": [
    "types = pd.DataFrame(df['type'].value_counts()).reset_index()\n",
    "types.columns = ['types', 'counts']\n",
    "types['percent'] = types.counts.apply(lambda x: 100 * x / types.counts.sum())\n",
    "types"
   ]
  },
  {
   "cell_type": "code",
   "execution_count": null,
   "id": "c8efa9c2",
   "metadata": {},
   "outputs": [],
   "source": []
  },
  {
   "cell_type": "code",
   "execution_count": 16,
   "id": "995dcb17",
   "metadata": {
    "scrolled": true
   },
   "outputs": [
    {
     "data": {
      "image/png": "[encoded data removed]",
      "text/plain": [
       "<Figure size 1440x720 with 1 Axes>"
      ]
     },
     "metadata": {
      "needs_background": "light"
     },
     "output_type": "display_data"
    }
   ],
   "source": [
    "fig, ax2 = plt.subplots(figsize=(20,10))\n",
    "\n",
    "colors = sns.color_palette('bright')\n",
    "\n",
    "ax2.bar(types.types, types.counts, width=1, edgecolor=\"white\", linewidth=0.7)\n",
    "plt.show()"
   ]
  },
  {
   "cell_type": "code",
   "execution_count": 17,
   "id": "3ca2c9cc",
   "metadata": {},
   "outputs": [],
   "source": [
    "df1=fd.sample(200,random_state=2)"
   ]
  },
  {
   "cell_type": "code",
   "execution_count": 18,
   "id": "39769228",
   "metadata": {},
   "outputs": [
    {
     "data": {
      "image/png": "[encoded data removed]",
      "text/plain": [
       "<Figure size 360x360 with 6 Axes>"
      ]
     },
     "metadata": {
      "needs_background": "light"
     },
     "output_type": "display_data"
    }
   ],
   "source": [
    "sns.pairplot(df1)\n",
    "plt.title('Figure 1: Pair Plot')\n",
    "plt.tight_layout()\n",
    "plt.savefig('Insight-Pair-Plot',dpi=None)\n",
    "plt.show()"
   ]
  },
  {
   "cell_type": "code",
   "execution_count": 19,
   "id": "997d7c0f",
   "metadata": {
    "scrolled": true
   },
   "outputs": [
    {
     "name": "stderr",
     "output_type": "stream",
     "text": [
      "C:\\Users\\chavd\\AppData\\Local\\Temp\\ipykernel_9836\\437128477.py:6: FutureWarning: The default value of regex will change from True to False in a future version. In addition, single character regular expressions will *not* be treated as literal strings when regex=True.\n",
      "  fd['price'] = fd['price'].str.replace('$', '')\n"
     ]
    },
    {
     "data": {
      "text/plain": [
       "0         9995\n",
       "1         8499\n",
       "2        29850\n",
       "3        19900\n",
       "4        20992\n",
       "         ...  \n",
       "27603    29990\n",
       "27604    20895\n",
       "27605    33299\n",
       "27606    33979\n",
       "27607    29988\n",
       "Name: price, Length: 26693, dtype: object"
      ]
     },
     "execution_count": 19,
     "metadata": {},
     "output_type": "execute_result"
    }
   ],
   "source": [
    "#fd['price']=fd['price'].astype(str)\n",
    "#fd.info()\n",
    "fd['price'] = fd['price'].replace(\"No Price Available\",np.nan)\n",
    "\n",
    "fd['price'] = fd['price'].str.replace(',', '')\n",
    "fd['price'] = fd['price'].str.replace('$', '')\n",
    "fd['price']"
   ]
  },
  {
   "cell_type": "code",
   "execution_count": 20,
   "id": "a8a97693",
   "metadata": {
    "scrolled": true
   },
   "outputs": [
    {
     "data": {
      "text/html": [
       "<div>\n",
       "<style scoped>\n",
       "    .dataframe tbody tr th:only-of-type {\n",
       "        vertical-align: middle;\n",
       "    }\n",
       "\n",
       "    .dataframe tbody tr th {\n",
       "        vertical-align: top;\n",
       "    }\n",
       "\n",
       "    .dataframe thead th {\n",
       "        text-align: right;\n",
       "    }\n",
       "</style>\n",
       "<table border=\"1\" class=\"dataframe\">\n",
       "  <thead>\n",
       "    <tr style=\"text-align: right;\">\n",
       "      <th></th>\n",
       "      <th>year</th>\n",
       "      <th>model</th>\n",
       "      <th>type</th>\n",
       "      <th>odometer</th>\n",
       "      <th>mpg</th>\n",
       "      <th>transmisson</th>\n",
       "      <th>engine_cap</th>\n",
       "      <th>make</th>\n",
       "      <th>price</th>\n",
       "    </tr>\n",
       "  </thead>\n",
       "  <tbody>\n",
       "    <tr>\n",
       "      <th>0</th>\n",
       "      <td>2015</td>\n",
       "      <td>Dodge Dart</td>\n",
       "      <td>Sedan</td>\n",
       "      <td>59012.0</td>\n",
       "      <td>25.0</td>\n",
       "      <td>Automatic</td>\n",
       "      <td>2</td>\n",
       "      <td>Dodge</td>\n",
       "      <td>9995</td>\n",
       "    </tr>\n",
       "    <tr>\n",
       "      <th>1</th>\n",
       "      <td>2015</td>\n",
       "      <td>Dodge Dart</td>\n",
       "      <td>Sedan</td>\n",
       "      <td>103035.0</td>\n",
       "      <td>22.0</td>\n",
       "      <td>Automatic</td>\n",
       "      <td>2.4</td>\n",
       "      <td>Dodge</td>\n",
       "      <td>8499</td>\n",
       "    </tr>\n",
       "    <tr>\n",
       "      <th>4</th>\n",
       "      <td>2018</td>\n",
       "      <td>Dodge Grand Caravan</td>\n",
       "      <td>Minivan</td>\n",
       "      <td>54507.0</td>\n",
       "      <td>17.0</td>\n",
       "      <td>Automatic</td>\n",
       "      <td>3.6</td>\n",
       "      <td>Dodge</td>\n",
       "      <td>20992</td>\n",
       "    </tr>\n",
       "    <tr>\n",
       "      <th>5</th>\n",
       "      <td>2019</td>\n",
       "      <td>Dodge Charger</td>\n",
       "      <td>Sedan</td>\n",
       "      <td>24311.0</td>\n",
       "      <td>15.0</td>\n",
       "      <td>Automatic</td>\n",
       "      <td>6.4</td>\n",
       "      <td>Dodge</td>\n",
       "      <td>44881</td>\n",
       "    </tr>\n",
       "    <tr>\n",
       "      <th>7</th>\n",
       "      <td>2019</td>\n",
       "      <td>Dodge Grand Caravan</td>\n",
       "      <td>Minivan</td>\n",
       "      <td>54642.0</td>\n",
       "      <td>17.0</td>\n",
       "      <td>Automatic</td>\n",
       "      <td>3.6</td>\n",
       "      <td>Dodge</td>\n",
       "      <td>22617</td>\n",
       "    </tr>\n",
       "    <tr>\n",
       "      <th>...</th>\n",
       "      <td>...</td>\n",
       "      <td>...</td>\n",
       "      <td>...</td>\n",
       "      <td>...</td>\n",
       "      <td>...</td>\n",
       "      <td>...</td>\n",
       "      <td>...</td>\n",
       "      <td>...</td>\n",
       "      <td>...</td>\n",
       "    </tr>\n",
       "    <tr>\n",
       "      <th>27602</th>\n",
       "      <td>2020</td>\n",
       "      <td>Toyota RAV4</td>\n",
       "      <td>SUV</td>\n",
       "      <td>48359.0</td>\n",
       "      <td>27.0</td>\n",
       "      <td>Automatic</td>\n",
       "      <td>2.5</td>\n",
       "      <td>Toyota</td>\n",
       "      <td>24995</td>\n",
       "    </tr>\n",
       "    <tr>\n",
       "      <th>27603</th>\n",
       "      <td>2016</td>\n",
       "      <td>Toyota Highlander</td>\n",
       "      <td>SUV</td>\n",
       "      <td>80714.0</td>\n",
       "      <td>18.0</td>\n",
       "      <td>Automatic</td>\n",
       "      <td>3.5</td>\n",
       "      <td>Toyota</td>\n",
       "      <td>29990</td>\n",
       "    </tr>\n",
       "    <tr>\n",
       "      <th>27604</th>\n",
       "      <td>2018</td>\n",
       "      <td>Toyota RAV4</td>\n",
       "      <td>SUV</td>\n",
       "      <td>95421.0</td>\n",
       "      <td>23.0</td>\n",
       "      <td>Automatic</td>\n",
       "      <td>2.5</td>\n",
       "      <td>Toyota</td>\n",
       "      <td>20895</td>\n",
       "    </tr>\n",
       "    <tr>\n",
       "      <th>27606</th>\n",
       "      <td>2019</td>\n",
       "      <td>Toyota RAV4</td>\n",
       "      <td>SUV</td>\n",
       "      <td>7459.0</td>\n",
       "      <td>25.0</td>\n",
       "      <td>Automatic</td>\n",
       "      <td>2.5</td>\n",
       "      <td>Toyota</td>\n",
       "      <td>33979</td>\n",
       "    </tr>\n",
       "    <tr>\n",
       "      <th>27607</th>\n",
       "      <td>2019</td>\n",
       "      <td>Toyota Camry</td>\n",
       "      <td>Sedan</td>\n",
       "      <td>24625.0</td>\n",
       "      <td>29.0</td>\n",
       "      <td>Automatic</td>\n",
       "      <td>2.5</td>\n",
       "      <td>Toyota</td>\n",
       "      <td>29988</td>\n",
       "    </tr>\n",
       "  </tbody>\n",
       "</table>\n",
       "<p>22048 rows × 9 columns</p>\n",
       "</div>"
      ],
      "text/plain": [
       "       year                 model     type  odometer   mpg transmisson  \\\n",
       "0      2015           Dodge Dart     Sedan   59012.0  25.0   Automatic   \n",
       "1      2015           Dodge Dart     Sedan  103035.0  22.0   Automatic   \n",
       "4      2018  Dodge Grand Caravan   Minivan   54507.0  17.0   Automatic   \n",
       "5      2019        Dodge Charger     Sedan   24311.0  15.0   Automatic   \n",
       "7      2019  Dodge Grand Caravan   Minivan   54642.0  17.0   Automatic   \n",
       "...     ...                   ...      ...       ...   ...         ...   \n",
       "27602  2020          Toyota RAV4       SUV   48359.0  27.0   Automatic   \n",
       "27603  2016    Toyota Highlander       SUV   80714.0  18.0   Automatic   \n",
       "27604  2018          Toyota RAV4       SUV   95421.0  23.0   Automatic   \n",
       "27606  2019          Toyota RAV4       SUV    7459.0  25.0   Automatic   \n",
       "27607  2019         Toyota Camry     Sedan   24625.0  29.0   Automatic   \n",
       "\n",
       "      engine_cap    make  price  \n",
       "0              2   Dodge   9995  \n",
       "1            2.4   Dodge   8499  \n",
       "4            3.6   Dodge  20992  \n",
       "5            6.4   Dodge  44881  \n",
       "7            3.6   Dodge  22617  \n",
       "...          ...     ...    ...  \n",
       "27602        2.5  Toyota  24995  \n",
       "27603        3.5  Toyota  29990  \n",
       "27604        2.5  Toyota  20895  \n",
       "27606        2.5  Toyota  33979  \n",
       "27607        2.5  Toyota  29988  \n",
       "\n",
       "[22048 rows x 9 columns]"
      ]
     },
     "execution_count": 20,
     "metadata": {},
     "output_type": "execute_result"
    }
   ],
   "source": [
    "\n",
    "fd.dropna()\n"
   ]
  },
  {
   "cell_type": "code",
   "execution_count": 21,
   "id": "414a59b2",
   "metadata": {
    "scrolled": true
   },
   "outputs": [
    {
     "name": "stderr",
     "output_type": "stream",
     "text": [
      "C:\\Users\\chavd\\anaconda3\\lib\\site-packages\\seaborn\\distributions.py:2619: FutureWarning: `distplot` is a deprecated function and will be removed in a future version. Please adapt your code to use either `displot` (a figure-level function with similar flexibility) or `histplot` (an axes-level function for histograms).\n",
      "  warnings.warn(msg, FutureWarning)\n"
     ]
    },
    {
     "data": {
      "image/png": "[encoded data removed]",
      "text/plain": [
       "<Figure size 432x288 with 1 Axes>"
      ]
     },
     "metadata": {
      "needs_background": "light"
     },
     "output_type": "display_data"
    }
   ],
   "source": [
    "sns.distplot(fd.price)\n",
    "plt.tight_layout()\n",
    "plt.title(\"Distribution of selling price\")\n",
    "plt.savefig('Insight-Dist-Plot',dpi=None)\n",
    "plt.show()"
   ]
  },
  {
   "cell_type": "code",
   "execution_count": 22,
   "id": "0c565e60",
   "metadata": {
    "scrolled": true
   },
   "outputs": [
    {
     "name": "stderr",
     "output_type": "stream",
     "text": [
      "C:\\Users\\chavd\\anaconda3\\lib\\site-packages\\seaborn\\_decorators.py:36: FutureWarning: Pass the following variables as keyword args: x, y. From version 0.12, the only valid positional argument will be `data`, and passing other arguments without an explicit keyword will result in an error or misinterpretation.\n",
      "  warnings.warn(\n"
     ]
    },
    {
     "data": {
      "image/png": "[encoded data removed]",
      "text/plain": [
       "<Figure size 1440x720 with 2 Axes>"
      ]
     },
     "metadata": {
      "needs_background": "light"
     },
     "output_type": "display_data"
    }
   ],
   "source": [
    "fig,axs=plt.subplots(nrows=2)\n",
    "fig.set_size_inches(20,10)\n",
    "#sns.barplot(x='year',y='price',data=fd,ax=axs[0])\n",
    "sns.barplot(fd.groupby('year').count()['price'].index,fd.groupby('year').count()['price'].values,ax=axs[1])\n",
    "#axs[0].set_title('Figure 3')\n",
    "axs[1].set_title('Figure 4')\n",
    "axs[1].set_ylabel('Number of cars')\n",
    "plt.tight_layout()\n",
    "plt.savefig('Insight-Figure-3-4.jpg',dpi=600)\n",
    "plt.show()"
   ]
  },
  {
   "cell_type": "code",
   "execution_count": 23,
   "id": "69c6797d",
   "metadata": {
    "scrolled": true
   },
   "outputs": [
    {
     "name": "stderr",
     "output_type": "stream",
     "text": [
      "C:\\Users\\chavd\\anaconda3\\lib\\site-packages\\seaborn\\_decorators.py:36: FutureWarning: Pass the following variables as keyword args: x, y. From version 0.12, the only valid positional argument will be `data`, and passing other arguments without an explicit keyword will result in an error or misinterpretation.\n",
      "  warnings.warn(\n",
      "C:\\Users\\chavd\\anaconda3\\lib\\site-packages\\seaborn\\_decorators.py:36: FutureWarning: Pass the following variables as keyword args: x, y. From version 0.12, the only valid positional argument will be `data`, and passing other arguments without an explicit keyword will result in an error or misinterpretation.\n",
      "  warnings.warn(\n"
     ]
    },
    {
     "data": {
      "image/png": "[encoded data removed]",
      "text/plain": [
       "<Figure size 1152x720 with 2 Axes>"
      ]
     },
     "metadata": {
      "needs_background": "light"
     },
     "output_type": "display_data"
    }
   ],
   "source": [
    "fig,axs=plt.subplots(nrows=2)\n",
    "fig.set_size_inches(16,10)\n",
    "sns.barplot(fd.groupby('year').count()['price'].index,fd.groupby('year').count()['price'].values,ax=axs[0])\n",
    "sns.barplot(fd.groupby('make').count()['price'].index,fd.groupby('make').count()['price'].values,ax=axs[1])\n",
    "axs[0].set_ylabel('Number of cars')\n",
    "axs[0].set_title('Figure 19')\n",
    "axs[1].set_ylabel('Number of cars')\n",
    "axs[1].set_title('Figure 20')\n",
    "axs[1].set_xticklabels(fd.groupby('make').count()['price'].index,rotation=90)\n",
    "plt.tight_layout()\n",
    "plt.show()"
   ]
  },
  {
   "cell_type": "code",
   "execution_count": 24,
   "id": "fc56f6eb",
   "metadata": {},
   "outputs": [
    {
     "name": "stdout",
     "output_type": "stream",
     "text": [
      "Automatic    21477\n",
      "Manual         571\n",
      "Name: transmisson, dtype: int64\n",
      "                types  counts\n",
      "0                 SUV   10054\n",
      "1        Pickup Truck    6711\n",
      "2               Sedan    6592\n",
      "3             Minivan    1993\n",
      "4               Coupe    1818\n",
      "5           Hatchback     164\n",
      "6           Cargo Van     115\n",
      "7         Convertible     104\n",
      "8   Chassis Cab Truck      22\n",
      "9               Wagon      19\n",
      "10      Passenger Van      16\n"
     ]
    }
   ],
   "source": [
    "fd=fd.dropna()\n",
    "fd['price']=fd['price'].astype(float)\n",
    "types = pd.DataFrame(df['type'].value_counts()).reset_index()\n",
    "types.columns = ['types', 'counts']\n",
    "\n",
    "print(fd['transmisson'].value_counts())\n",
    "print(types)"
   ]
  },
  {
   "cell_type": "code",
   "execution_count": 25,
   "id": "776d2abc",
   "metadata": {},
   "outputs": [],
   "source": [
    "num_col=['year','odometer','mpg']\n",
    "cat_cols=['make','model','transmisson','type']"
   ]
  },
  {
   "cell_type": "code",
   "execution_count": 26,
   "id": "7b23a129",
   "metadata": {},
   "outputs": [],
   "source": [
    "le=preprocessing.LabelEncoder()\n",
    "fd[cat_cols]=fd[cat_cols].apply(le.fit_transform)\n",
    "np.save('classes.npy',le.classes_)"
   ]
  },
  {
   "cell_type": "code",
   "execution_count": 27,
   "id": "9b352533",
   "metadata": {
    "scrolled": true
   },
   "outputs": [
    {
     "data": {
      "text/plain": [
       "0         9.209840\n",
       "1         9.047704\n",
       "4         9.951897\n",
       "5        10.711770\n",
       "7        10.026457\n",
       "           ...    \n",
       "27602    10.126431\n",
       "27603    10.308619\n",
       "27604     9.947265\n",
       "27606    10.433498\n",
       "27607    10.308553\n",
       "Name: price, Length: 22048, dtype: float64"
      ]
     },
     "execution_count": 27,
     "metadata": {},
     "output_type": "execute_result"
    }
   ],
   "source": [
    "norm = StandardScaler()\n",
    "fd['price'] = np.log(fd['price'])\n",
    "fd['odometer'] = np.log(fd['odometer'])\n",
    "fd['year']=fd['year'].astype(int)\n",
    "fd['year'] = np.log(fd['year'])\n",
    "#fd['model'] = norm.fit_transform(np.array(fd['model']).reshape(-1,1))\n",
    "\n",
    "fd['price']\n",
    "#scaling target variable\n",
    "# q1,q3=(fd['price'].quantile([0.25,0.75]))\n",
    "# o1=q1-1.5*(q3-q1)\n",
    "# o2=q3+1.5*(q3-q1)\n",
    "# fd=fd[(fd.price>=o1) & (fd.price<=o2)]"
   ]
  },
  {
   "cell_type": "code",
   "execution_count": 28,
   "id": "766c897a",
   "metadata": {},
   "outputs": [
    {
     "data": {
      "text/plain": [
       "0    21477\n",
       "1      571\n",
       "Name: transmisson, dtype: int64"
      ]
     },
     "execution_count": 28,
     "metadata": {},
     "output_type": "execute_result"
    }
   ],
   "source": [
    "fd['transmisson'].value_counts()"
   ]
  },
  {
   "cell_type": "code",
   "execution_count": 29,
   "id": "22ad9dbd",
   "metadata": {},
   "outputs": [],
   "source": [
    "fd = fd.drop('engine_cap',axis=1)"
   ]
  },
  {
   "cell_type": "code",
   "execution_count": 30,
   "id": "d5fa6074",
   "metadata": {},
   "outputs": [],
   "source": [
    "def trainingData(fd,n):\n",
    "    X = fd.iloc[:,n]\n",
    "    y = fd.iloc[:,-1:].values.T\n",
    "    y=y[0]\n",
    "    X_train,X_test,y_train,y_test=train_test_split(X,y,train_size=0.8,test_size=0.2,random_state=2)\n",
    "    return (X_train,X_test,y_train,y_test)\n",
    "\n",
    "X_train,X_test,y_train,y_test=trainingData(fd,list(range(len(list(fd.columns))-1)))"
   ]
  },
  {
   "cell_type": "code",
   "execution_count": 31,
   "id": "ca646e7f",
   "metadata": {},
   "outputs": [],
   "source": [
    "def remove_neg(y_test,y_pred):\n",
    "    ind=[index for index in range(len(y_pred)) if(y_pred[index]>0)]\n",
    "    y_pred=y_pred[ind]\n",
    "    y_test=y_test[ind]\n",
    "    y_pred[y_pred<0]\n",
    "    return (y_test,y_pred)\n",
    "\n",
    "#function for evaluation of model\n",
    "def result(y_test,y_pred):\n",
    "    r=[]\n",
    "    r.append(mean_squared_log_error(y_test, y_pred))\n",
    "    r.append(np.sqrt(r[0]))\n",
    "    r.append(r2_score(y_test,y_pred))\n",
    "    r.append(round(r2_score(y_test,y_pred)*100,4))\n",
    "    return (r)\n",
    "\n",
    "#dataframe that store the performance of each model\n",
    "accu=pd.DataFrame(index=['MSLE', 'Root MSLE', 'R2 Score','Accuracy(%)'])  "
   ]
  },
  {
   "cell_type": "code",
   "execution_count": 32,
   "id": "97408fd4",
   "metadata": {},
   "outputs": [
    {
     "data": {
      "text/html": [
       "<div>\n",
       "<style scoped>\n",
       "    .dataframe tbody tr th:only-of-type {\n",
       "        vertical-align: middle;\n",
       "    }\n",
       "\n",
       "    .dataframe tbody tr th {\n",
       "        vertical-align: top;\n",
       "    }\n",
       "\n",
       "    .dataframe thead th {\n",
       "        text-align: right;\n",
       "    }\n",
       "</style>\n",
       "<table border=\"1\" class=\"dataframe\">\n",
       "  <thead>\n",
       "    <tr style=\"text-align: right;\">\n",
       "      <th></th>\n",
       "      <th>year</th>\n",
       "      <th>model</th>\n",
       "      <th>type</th>\n",
       "      <th>odometer</th>\n",
       "      <th>mpg</th>\n",
       "      <th>transmisson</th>\n",
       "      <th>make</th>\n",
       "    </tr>\n",
       "  </thead>\n",
       "  <tbody>\n",
       "    <tr>\n",
       "      <th>7463</th>\n",
       "      <td>7.604396</td>\n",
       "      <td>14</td>\n",
       "      <td>6</td>\n",
       "      <td>12.042530</td>\n",
       "      <td>14.0</td>\n",
       "      <td>0</td>\n",
       "      <td>0</td>\n",
       "    </tr>\n",
       "    <tr>\n",
       "      <th>12517</th>\n",
       "      <td>7.608374</td>\n",
       "      <td>33</td>\n",
       "      <td>6</td>\n",
       "      <td>11.768482</td>\n",
       "      <td>15.0</td>\n",
       "      <td>0</td>\n",
       "      <td>1</td>\n",
       "    </tr>\n",
       "    <tr>\n",
       "      <th>17118</th>\n",
       "      <td>7.609367</td>\n",
       "      <td>33</td>\n",
       "      <td>6</td>\n",
       "      <td>11.195032</td>\n",
       "      <td>15.0</td>\n",
       "      <td>0</td>\n",
       "      <td>1</td>\n",
       "    </tr>\n",
       "    <tr>\n",
       "      <th>15972</th>\n",
       "      <td>7.608871</td>\n",
       "      <td>31</td>\n",
       "      <td>7</td>\n",
       "      <td>11.355698</td>\n",
       "      <td>17.0</td>\n",
       "      <td>0</td>\n",
       "      <td>1</td>\n",
       "    </tr>\n",
       "    <tr>\n",
       "      <th>4972</th>\n",
       "      <td>7.609367</td>\n",
       "      <td>4</td>\n",
       "      <td>8</td>\n",
       "      <td>10.995361</td>\n",
       "      <td>16.0</td>\n",
       "      <td>0</td>\n",
       "      <td>0</td>\n",
       "    </tr>\n",
       "    <tr>\n",
       "      <th>...</th>\n",
       "      <td>...</td>\n",
       "      <td>...</td>\n",
       "      <td>...</td>\n",
       "      <td>...</td>\n",
       "      <td>...</td>\n",
       "      <td>...</td>\n",
       "      <td>...</td>\n",
       "    </tr>\n",
       "    <tr>\n",
       "      <th>1445</th>\n",
       "      <td>7.609367</td>\n",
       "      <td>8</td>\n",
       "      <td>4</td>\n",
       "      <td>11.300623</td>\n",
       "      <td>17.0</td>\n",
       "      <td>0</td>\n",
       "      <td>0</td>\n",
       "    </tr>\n",
       "    <tr>\n",
       "      <th>23736</th>\n",
       "      <td>7.608871</td>\n",
       "      <td>76</td>\n",
       "      <td>6</td>\n",
       "      <td>11.658254</td>\n",
       "      <td>13.0</td>\n",
       "      <td>0</td>\n",
       "      <td>2</td>\n",
       "    </tr>\n",
       "    <tr>\n",
       "      <th>14591</th>\n",
       "      <td>7.607878</td>\n",
       "      <td>33</td>\n",
       "      <td>6</td>\n",
       "      <td>11.855721</td>\n",
       "      <td>14.0</td>\n",
       "      <td>0</td>\n",
       "      <td>1</td>\n",
       "    </tr>\n",
       "    <tr>\n",
       "      <th>7849</th>\n",
       "      <td>7.607381</td>\n",
       "      <td>6</td>\n",
       "      <td>8</td>\n",
       "      <td>11.570543</td>\n",
       "      <td>25.0</td>\n",
       "      <td>1</td>\n",
       "      <td>0</td>\n",
       "    </tr>\n",
       "    <tr>\n",
       "      <th>3229</th>\n",
       "      <td>7.610358</td>\n",
       "      <td>3</td>\n",
       "      <td>2</td>\n",
       "      <td>10.187952</td>\n",
       "      <td>18.0</td>\n",
       "      <td>0</td>\n",
       "      <td>0</td>\n",
       "    </tr>\n",
       "  </tbody>\n",
       "</table>\n",
       "<p>17638 rows × 7 columns</p>\n",
       "</div>"
      ],
      "text/plain": [
       "           year  model  type   odometer   mpg  transmisson  make\n",
       "7463   7.604396     14     6  12.042530  14.0            0     0\n",
       "12517  7.608374     33     6  11.768482  15.0            0     1\n",
       "17118  7.609367     33     6  11.195032  15.0            0     1\n",
       "15972  7.608871     31     7  11.355698  17.0            0     1\n",
       "4972   7.609367      4     8  10.995361  16.0            0     0\n",
       "...         ...    ...   ...        ...   ...          ...   ...\n",
       "1445   7.609367      8     4  11.300623  17.0            0     0\n",
       "23736  7.608871     76     6  11.658254  13.0            0     2\n",
       "14591  7.607878     33     6  11.855721  14.0            0     1\n",
       "7849   7.607381      6     8  11.570543  25.0            1     0\n",
       "3229   7.610358      3     2  10.187952  18.0            0     0\n",
       "\n",
       "[17638 rows x 7 columns]"
      ]
     },
     "execution_count": 32,
     "metadata": {},
     "output_type": "execute_result"
    }
   ],
   "source": [
    "X_train"
   ]
  },
  {
   "cell_type": "code",
   "execution_count": 33,
   "id": "d31443d8",
   "metadata": {
    "scrolled": true
   },
   "outputs": [
    {
     "data": {
      "text/plain": [
       "array([ 9.30565055, 10.12531023, 10.83643873, ...,  9.88328485,\n",
       "        9.12847935, 10.34167797])"
      ]
     },
     "execution_count": 33,
     "metadata": {},
     "output_type": "execute_result"
    }
   ],
   "source": [
    "y_train"
   ]
  },
  {
   "cell_type": "code",
   "execution_count": 34,
   "id": "e72bb7f7",
   "metadata": {
    "scrolled": false
   },
   "outputs": [
    {
     "name": "stdout",
     "output_type": "stream",
     "text": [
      "10999.999980414408\n"
     ]
    }
   ],
   "source": [
    "print(np.exp(9.30565055))"
   ]
  },
  {
   "cell_type": "code",
   "execution_count": 35,
   "id": "a199b585",
   "metadata": {},
   "outputs": [],
   "source": [
    "#fitting model\n",
    "\n",
    "# LR=LinearRegression()\n",
    "# LR.fit(X_train,y_train)\n",
    "# y_pred=LR.predict(X_test)"
   ]
  },
  {
   "cell_type": "code",
   "execution_count": 36,
   "id": "5495df32",
   "metadata": {},
   "outputs": [],
   "source": [
    "# y_test_1,y_pred_1=remove_neg(y_test,y_pred)\n",
    "# r1_lr=result(y_test_1,y_pred_1)\n",
    "# print('Coefficients: \\n', LR.coef_)\n",
    "# print(\"MSLE : {}\".format(r1_lr[0]))\n",
    "# print(\"Root MSLE : {}\".format(r1_lr[1]))\n",
    "# print(\"R2 Score : {} or {}%\".format(r1_lr[2],r1_lr[3]))\n",
    "# accu['Linear Regression']=r1_lr"
   ]
  },
  {
   "cell_type": "code",
   "execution_count": 37,
   "id": "ab7758c4",
   "metadata": {},
   "outputs": [],
   "source": [
    "RFR = RandomForestRegressor(n_estimators=180,random_state=0, min_samples_leaf=1, max_features=0.5, n_jobs=-1, oob_score=True)\n",
    "RFR.fit(X_train,y_train)\n",
    "y_pred = RFR.predict(X_test)"
   ]
  },
  {
   "cell_type": "code",
   "execution_count": 38,
   "id": "37f4ac42",
   "metadata": {},
   "outputs": [
    {
     "name": "stdout",
     "output_type": "stream",
     "text": [
      "MSLE : 0.0001165524906075981\n",
      "Root MSLE : 0.010795947879070096\n",
      "R2 Score : 0.9366486115385102 or 93.6649%\n"
     ]
    }
   ],
   "source": [
    "r5_rf=result(y_test,y_pred)\n",
    "print(\"MSLE : {}\".format(r5_rf[0]))\n",
    "print(\"Root MSLE : {}\".format(r5_rf[1]))\n",
    "print(\"R2 Score : {} or {}%\".format(r5_rf[2],r5_rf[3]))\n",
    "accu['RandomForest Regressor']=r5_rf"
   ]
  },
  {
   "cell_type": "code",
   "execution_count": 39,
   "id": "29fd8a4c",
   "metadata": {},
   "outputs": [],
   "source": [
    "# xg_reg = xgb.XGBRegressor(objective ='reg:squarederror', learning_rate = 0.4,\n",
    "#                 max_depth = 24, alpha = 5, n_estimators = 200)\n",
    "# xg_reg.fit(X_train,y_train)\n",
    "# y_pred = xg_reg.predict(X_test)"
   ]
  },
  {
   "cell_type": "code",
   "execution_count": 40,
   "id": "92cd8f4e",
   "metadata": {},
   "outputs": [],
   "source": [
    "# y_test_1,y_pred_1=remove_neg(y_test,y_pred)\n",
    "# r8_xg=result(y_test_1,y_pred_1)\n",
    "# print(\"MSLE : {}\".format(r8_xg[0]))\n",
    "# print(\"Root MSLE : {}\".format(r8_xg[1]))\n",
    "# print(\"R2 Score : {} or {}%\".format(r8_xg[2],r8_xg[3]))"
   ]
  },
  {
   "cell_type": "code",
   "execution_count": 41,
   "id": "b39a2c02",
   "metadata": {},
   "outputs": [],
   "source": [
    "import pickle\n",
    "# # open a file, where you ant to store the data\n",
    "file = open('random_forest_model_pred.pkl', 'wb')\n",
    "# # file1 =open('linear_regression_model.pkl','wb')\n",
    "# # file2 = open('xgboost_model.pkl','wb')\n",
    "\n",
    "# # dump information to that file\n",
    "pickle.dump(RFR, file)\n",
    "# pickle.dump(LR,file1)\n",
    "# # pickle.dump(xg_reg,file2)\n",
    "# #we use a pickle file to store the data in a byte stream format"
   ]
  },
  {
   "cell_type": "code",
   "execution_count": 42,
   "id": "53f40a11",
   "metadata": {
    "scrolled": true
   },
   "outputs": [
    {
     "name": "stderr",
     "output_type": "stream",
     "text": [
      "C:\\Users\\chavd\\anaconda3\\lib\\site-packages\\sklearn\\base.py:450: UserWarning: X does not have valid feature names, but RandomForestRegressor was fitted with feature names\n",
      "  warnings.warn(\n"
     ]
    }
   ],
   "source": [
    "X_test1=[[7.604396,14,6,12.042530,14.0,0,0]]\n",
    "y_pred_1=RFR.predict(X_test1)\n",
    "#y_pred_1=xg_reg.predict(X_test1,validate_features=False)"
   ]
  },
  {
   "cell_type": "code",
   "execution_count": 43,
   "id": "2faa3cf5",
   "metadata": {
    "scrolled": true
   },
   "outputs": [
    {
     "name": "stdout",
     "output_type": "stream",
     "text": [
      "[10319.97041386]\n"
     ]
    }
   ],
   "source": [
    "print(np.exp(y_pred_1))"
   ]
  }
 ],
 "metadata": {
  "kernelspec": {
   "display_name": "Python 3 (ipykernel)",
   "language": "python",
   "name": "python3"
  },
  "language_info": {
   "codemirror_mode": {
    "name": "ipython",
    "version": 3
   },
   "file_extension": ".py",
   "mimetype": "text/x-python",
   "name": "python",
   "nbconvert_exporter": "python",
   "pygments_lexer": "ipython3",
   "version": "3.9.12"
  }
 },
 "nbformat": 4,
 "nbformat_minor": 5
}
